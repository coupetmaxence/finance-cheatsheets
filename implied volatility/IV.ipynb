{
 "cells": [
  {
   "cell_type": "markdown",
   "metadata": {},
   "source": [
    "# Implied volatility computation"
   ]
  },
  {
   "cell_type": "code",
   "execution_count": 2,
   "metadata": {},
   "outputs": [
    {
     "name": "stdout",
     "output_type": "stream",
     "text": [
      "2604.0656754818065\n"
     ]
    },
    {
     "data": {
      "image/png": "[encoded data removed]",
      "text/plain": [
       "<matplotlib.figure.Figure at 0x7f00680ce9b0>"
      ]
     },
     "metadata": {},
     "output_type": "display_data"
    }
   ],
   "source": [
    "import json\n",
    "import numpy as np\n",
    "import pandas as pd\n",
    "from scipy.stats import norm\n",
    "from scipy.optimize import newton\n",
    "import matplotlib.pyplot as plt\n",
    "\n",
    "\n",
    "# Underlying parameters\n",
    "S0 = 2600\n",
    "r = 0.01875\n",
    "q = 0.018\n",
    "T = 1/12\n",
    "\n",
    "\n",
    "# Defining the Black-Scholes price as a function of the strike and volatility\n",
    "def d1(sigma, K):\n",
    "    return (np.log(S0/K)+(r-q+0.5*sigma**2)*T)/(sigma*np.sqrt(T))\n",
    "\n",
    "def d2(sigma, K):\n",
    "    return d1(sigma, K) - sigma*np.sqrt(T)\n",
    "\n",
    "def price_BS(sigma, K):\n",
    "    return S0*np.exp(-q*T)*norm.cdf(d1(sigma, K))-K*np.exp(-r*T)*norm.cdf(d2(sigma, K))\n",
    "\n",
    "def zero_function(sigma, K, price):\n",
    "    return price_BS(sigma, K) - price\n",
    "\n",
    "# Retrieving option prices\n",
    "option_prices = pd.read_json(\"S&P500.json\")\n",
    "option_prices = option_prices.set_index('strike')\n",
    "\n",
    "\n",
    "# Retrieving the historical annualized volatility\n",
    "hist_prices = pd.read_json(\"hist_S&P500.json\",orient='records')\n",
    "hist_prices = hist_prices.set_index('date')\n",
    "hist_prices = hist_prices.pct_change()\n",
    "hist_sigma = float(hist_prices.std())*np.sqrt(252)\n",
    "\n",
    "\n",
    "# Computing implied volatility\n",
    "strikes = option_prices.index\n",
    "volatilities = np.zeros(len(strikes))\n",
    "\n",
    "for i, strike in enumerate(strikes):\n",
    "    price = float(option_prices.loc[[strike]]['price'])\n",
    "    volatilities[i] = newton(zero_function,hist_sigma,args=(strike, price))\n",
    "\n",
    "print(S0*np.exp(r*T))\n",
    "plt.plot(strikes, volatilities)\n",
    "plt.show()"
   ]
  },
  {
   "cell_type": "code",
   "execution_count": null,
   "metadata": {},
   "outputs": [],
   "source": []
  }
 ],
 "metadata": {
  "kernelspec": {
   "display_name": "Python 3",
   "language": "python",
   "name": "python3"
  },
  "language_info": {
   "codemirror_mode": {
    "name": "ipython",
    "version": 3
   },
   "file_extension": ".py",
   "mimetype": "text/x-python",
   "name": "python",
   "nbconvert_exporter": "python",
   "pygments_lexer": "ipython3",
   "version": "3.6.4"
  }
 },
 "nbformat": 4,
 "nbformat_minor": 2
}
